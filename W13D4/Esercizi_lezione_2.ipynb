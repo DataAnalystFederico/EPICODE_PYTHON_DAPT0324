{
 "cells": [
  {
   "cell_type": "code",
   "execution_count": 1,
   "id": "01a6c512-a545-4806-b28b-604f5076fb10",
   "metadata": {},
   "outputs": [
    {
     "name": "stdout",
     "output_type": "stream",
     "text": [
      "E\n",
      "p\n",
      "i\n",
      "c\n",
      "o\n",
      "d\n",
      "e\n"
     ]
    }
   ],
   "source": [
    "# task 1:\n",
    "'''Abbiamo la stringa: nome_scuola = \"Epicode\" Stampare ogni carattere della stringa,\n",
    "uno su ogni riga, utilizzando un costrutto while.'''\n",
    "\n",
    "nome_scuola = 'Epicode'\n",
    "carattere = 0\n",
    "\n",
    "while carattere < len(nome_scuola):\n",
    "    print(nome_scuola[carattere])\n",
    "    carattere += 1 \n",
    "# for carattere in nome_scuola:\n",
    "#  print(carattere)"
   ]
  },
  {
   "cell_type": "code",
   "execution_count": 3,
   "id": "a97413a0-2737-4347-ac3e-267c1c31bc89",
   "metadata": {},
   "outputs": [
    {
     "name": "stdout",
     "output_type": "stream",
     "text": [
      "0\n",
      "1\n",
      "2\n",
      "3\n",
      "4\n",
      "5\n",
      "6\n",
      "7\n",
      "8\n",
      "9\n",
      "10\n",
      "11\n",
      "12\n",
      "13\n",
      "14\n",
      "15\n",
      "16\n",
      "17\n",
      "18\n",
      "19\n",
      "20\n"
     ]
    }
   ],
   "source": [
    "# task 2:\n",
    "'''Stampare a video tutti i numeri da 0 a 20 utilizzando il costrutto while. Utilizzeremo: \n",
    "• un ciclo while \n",
    "• la funzione print() \n",
    "• una variabile, che dovrà essere inizializzata \n",
    "• una procedura di incremento.'''\n",
    "\n",
    "num = 0 # init\n",
    "\n",
    "while num <= 20:\n",
    "    print(num)\n",
    "    num += 1\n"
   ]
  },
  {
   "cell_type": "code",
   "execution_count": 8,
   "id": "20579b23-9408-4ab4-b4d2-fc3b4b9fbc4b",
   "metadata": {},
   "outputs": [
    {
     "name": "stdout",
     "output_type": "stream",
     "text": [
      "1\n",
      "2\n",
      "4\n",
      "8\n",
      "16\n",
      "32\n",
      "64\n",
      "128\n",
      "256\n",
      "512\n",
      "1024\n"
     ]
    }
   ],
   "source": [
    "# task 3:\n",
    "'''Calcolare e stampare tutte le prime 10 potenze di 2 (e.g., 2⁰, 2¹, 2², …) \n",
    "utilizzando un ciclo while.'''\n",
    "\n",
    "n = 0 # init esponente\n",
    "potenza_di_2 = 2**n # init potenza di 2\n",
    "\n",
    "while potenza_di_2 <= 2**10:\n",
    "    print(potenza_di_2)\n",
    "    n += 1\n",
    "    potenza_di_2 = 2**n"
   ]
  },
  {
   "cell_type": "code",
   "execution_count": 5,
   "id": "5b871a10-12a8-49d4-96d1-ac993b5ddd7e",
   "metadata": {},
   "outputs": [
    {
     "name": "stdin",
     "output_type": "stream",
     "text": [
      "insersci il N di potenze di 2 da calcolare: 6\n"
     ]
    },
    {
     "name": "stdout",
     "output_type": "stream",
     "text": [
      "1\n",
      "2\n",
      "4\n",
      "8\n",
      "16\n",
      "32\n"
     ]
    }
   ],
   "source": [
    "# task 4:\n",
    "'''Calcolare e stampare tutte le prime N potenze di 2 utilizzando un ciclo while, \n",
    "domandando all'utente di inserire N.'''\n",
    "\n",
    "N = input('insersci il N di potenze di 2 da calcolare:')\n",
    "n = 0 # init esponente\n",
    "N = int(N)\n",
    "\n",
    "while n < N:\n",
    "    potenza_di_2 = 2**n\n",
    "    print(potenza_di_2)\n",
    "    n += 1"
   ]
  },
  {
   "cell_type": "code",
   "execution_count": 56,
   "id": "c2cf57bb-fb6b-4eb1-9766-7e3f06a9f3ec",
   "metadata": {},
   "outputs": [
    {
     "name": "stdout",
     "output_type": "stream",
     "text": [
      "1\n",
      "2\n",
      "4\n",
      "8\n",
      "16\n",
      "32\n",
      "64\n",
      "128\n",
      "256\n",
      "512\n",
      "1024\n",
      "2048\n",
      "4096\n",
      "8192\n",
      "16384\n"
     ]
    }
   ],
   "source": [
    "# task 5:\n",
    "'Calcolare e stampare tutte le potenze di 2 minori di 25000.'\n",
    "\n",
    "n = 0 # init esponente\n",
    "potenza_di_2 = 2**n # init potenza di 2\n",
    "\n",
    "while potenza_di_2 < 25000:\n",
    "    potenza_di_2 = 2**n\n",
    "    if potenza_di_2 > 25000:\n",
    "        break\n",
    "    print(potenza_di_2)\n",
    "    n += 1"
   ]
  },
  {
   "cell_type": "code",
   "execution_count": 51,
   "id": "23891b89-1a22-436c-a696-c6d776a73524",
   "metadata": {},
   "outputs": [
    {
     "name": "stdout",
     "output_type": "stream",
     "text": [
      "['Cybersecurity', 'Data Analyst', 'Backend', 'Frontend', 'Data Analyst', 'Backend', 'Frontend', 'Cybersecurity']\n"
     ]
    }
   ],
   "source": [
    "# task 6:\n",
    "'''Abbiamo due liste, una di studenti e una di corsi: \n",
    "studenti = [\"Alex\", \"Bob\", \"Cindy\", \"Dan\", \"Emma\", \"Faith\", \"Grace\", \"Henry\"] \n",
    "corsi = [\"Cybersecurity\", \"Data Analyst\", \"Backend\", \"Frontend\", \"Data Analyst\", \"Backend\"]\n",
    "\n",
    "Aggiungere i dati mancanti alla lista corsi, sapendo che:\n",
    "\n",
    "Emma segue Data Analyst \n",
    "Faith segue Backend \n",
    "Grace segue Frontend \n",
    "Henry segue Cybersecurity \n",
    "\n",
    "Aggiungeremo i dati mancanti uno alla volta con il metodo per appendere in coda alle liste,\n",
    "poi verificheremo che sono della stessa lunghezza \n",
    "e se lo sono stamperemo la lista corsi. Se alcuni dati sono già presenti non vanno aggiunti di nuovo.'''\n",
    "\n",
    "studenti = [\"Alex\", \"Bob\", \"Cindy\", \"Dan\", \"Emma\", \"Faith\", \"Grace\", \"Henry\"] \n",
    "corsi = [\"Cybersecurity\", \"Data Analyst\", \"Backend\", \"Frontend\", \"Data Analyst\", \"Backend\"]\n",
    "\n",
    "corsi.append(\"Frontend\")\n",
    "corsi.append(\"Cybersecurity\")\n",
    "#print(corsi)\n",
    "if len(studenti) == len(corsi):\n",
    "    print(corsi)"
   ]
  },
  {
   "cell_type": "code",
   "execution_count": 45,
   "id": "d552f2b9-3265-46e5-9c91-531b55e26db8",
   "metadata": {},
   "outputs": [
    {
     "name": "stdin",
     "output_type": "stream",
     "text": [
      "inserisci stringa giocattolo\n"
     ]
    },
    {
     "name": "stdout",
     "output_type": "stream",
     "text": [
      "giocattolo\n"
     ]
    }
   ],
   "source": [
    "# task 7:\n",
    "'''Scriviamo un programma che chiede in input all'utente una stringa e visualizza i primi 3 caratteri, \n",
    "seguiti da 3 punti di sospensione e quindi gli ultimi 3 caratteri,\n",
    "similmente all'esercizio della lezione scorsa. Stavolta facciamo attenzione a tutti i casi particolari, \n",
    "ovvero implementare soluzioni ad hoc per stringhe di lunghezza inferiore a 6 caratteri.'''\n",
    "\n",
    "str = input('inserisci stringa')\n",
    "str2 = 'abcdef'\n",
    "if len(str) < len(str2):\n",
    "    print(str[:3],'...',str[-3:])\n",
    "else:\n",
    "    print(str)"
   ]
  },
  {
   "cell_type": "code",
   "execution_count": null,
   "id": "07779254-7c0d-4cd6-96c1-fb8af04a108c",
   "metadata": {},
   "outputs": [],
   "source": [
    "# task 8:\n",
    "'''Memorizza e stampa tutti i fattori di un numero dato in input. Esempio: \n",
    "• input: 150 \n",
    "• output: [2, 3, 5, 5]'''\n",
    "\n",
    "N = int(input('inserisci N:'))\n"
   ]
  },
  {
   "cell_type": "code",
   "execution_count": 66,
   "id": "4f031dbe-fd63-4a1e-b202-2a4404819793",
   "metadata": {},
   "outputs": [
    {
     "name": "stdout",
     "output_type": "stream",
     "text": [
      "E\n",
      "p\n",
      "i\n",
      "c\n",
      "o\n",
      "d\n",
      "e\n"
     ]
    }
   ],
   "source": [
    "# task 9:\n",
    "'''Abbiamo la stringa: nome_scuola = \"Epicode\"\n",
    "Stampare ogni carattere della stringa, \n",
    "uno su ogni riga, utilizzando un costrutto for.'''\n",
    "\n",
    "nome_scuola = \"Epicode\"\n",
    "\n",
    "for carattere in nome_scuola:\n",
    "    print(carattere)"
   ]
  },
  {
   "cell_type": "code",
   "execution_count": 19,
   "id": "b5d5730d-ff27-40cc-adf2-75d10a33ca07",
   "metadata": {},
   "outputs": [
    {
     "name": "stdout",
     "output_type": "stream",
     "text": [
      "2\n",
      "4\n",
      "8\n",
      "16\n",
      "32\n",
      "64\n",
      "128\n",
      "256\n",
      "512\n",
      "1024\n",
      "1\n",
      "2\n",
      "4\n",
      "8\n",
      "16\n",
      "32\n",
      "64\n",
      "128\n",
      "256\n",
      "512\n",
      "1024\n"
     ]
    }
   ],
   "source": [
    "# task 10:\n",
    "'''Calcolare e stampare tutte le prime 10 potenze di 2 utilizzando un ciclo.\n",
    "Utilizzeremo: \n",
    "• un ciclo per generare i primi 10 numeri,\n",
    "e.g.: range_numerico = list()  # init \n",
    "num = 1  # init \n",
    "while num <= 10: \n",
    " range_numerico.append(num) \n",
    " num += 1'''\n",
    "\n",
    "num = 1  # init\n",
    "potenza_di_2 = 2**num # init\n",
    "\n",
    "while num <= 10: \n",
    "    potenza_di_2 = 2**num\n",
    "    print(potenza_di_2)\n",
    "    num += 1\n",
    "\n",
    "for num in range(11):\n",
    "    potenza_di_2 = 2**num\n",
    "    print(potenza_di_2)    "
   ]
  },
  {
   "cell_type": "code",
   "execution_count": 17,
   "id": "05d1a261-a95c-438d-ad19-852194f5a6db",
   "metadata": {},
   "outputs": [
    {
     "name": "stdin",
     "output_type": "stream",
     "text": [
      "inserisci il numero di potenze da calcolare (N): 10\n",
      "inserisci il numero base (K): 3\n"
     ]
    },
    {
     "name": "stdout",
     "output_type": "stream",
     "text": [
      "[1]\n",
      "[1, 3]\n",
      "[1, 3, 9]\n",
      "[1, 3, 9, 27]\n",
      "[1, 3, 9, 27, 81]\n",
      "[1, 3, 9, 27, 81, 243]\n",
      "[1, 3, 9, 27, 81, 243, 729]\n",
      "[1, 3, 9, 27, 81, 243, 729, 2187]\n",
      "[1, 3, 9, 27, 81, 243, 729, 2187, 6561]\n",
      "[1, 3, 9, 27, 81, 243, 729, 2187, 6561, 19683]\n",
      "[1, 3, 9, 27, 81, 243, 729, 2187, 6561, 19683, 59049]\n",
      "[1, 3, 9, 27, 81, 243, 729, 2187, 6561, 19683, 59049, 1]\n",
      "[1, 3, 9, 27, 81, 243, 729, 2187, 6561, 19683, 59049, 1, 3]\n",
      "[1, 3, 9, 27, 81, 243, 729, 2187, 6561, 19683, 59049, 1, 3, 9]\n",
      "[1, 3, 9, 27, 81, 243, 729, 2187, 6561, 19683, 59049, 1, 3, 9, 27]\n",
      "[1, 3, 9, 27, 81, 243, 729, 2187, 6561, 19683, 59049, 1, 3, 9, 27, 81]\n",
      "[1, 3, 9, 27, 81, 243, 729, 2187, 6561, 19683, 59049, 1, 3, 9, 27, 81, 243]\n",
      "[1, 3, 9, 27, 81, 243, 729, 2187, 6561, 19683, 59049, 1, 3, 9, 27, 81, 243, 729]\n",
      "[1, 3, 9, 27, 81, 243, 729, 2187, 6561, 19683, 59049, 1, 3, 9, 27, 81, 243, 729, 2187]\n",
      "[1, 3, 9, 27, 81, 243, 729, 2187, 6561, 19683, 59049, 1, 3, 9, 27, 81, 243, 729, 2187, 6561]\n",
      "[1, 3, 9, 27, 81, 243, 729, 2187, 6561, 19683, 59049, 1, 3, 9, 27, 81, 243, 729, 2187, 6561, 19683]\n",
      "[1, 3, 9, 27, 81, 243, 729, 2187, 6561, 19683, 59049, 1, 3, 9, 27, 81, 243, 729, 2187, 6561, 19683, 59049]\n"
     ]
    }
   ],
   "source": [
    "# task 11:\n",
    "'''Calcolare (ma non stampare) le prime N potenze di K; \n",
    "ognuna di esse andrà memorizzata in coda a una lista. Alla fine, stampare la lista risultante.\n",
    "Proviamo con diversi valori di K, oppure facciamola inserire all'utente. \n",
    "Realizzare due versioni:\n",
    "• con un ciclo while,\n",
    "• con un ciclo for.'''\n",
    "\n",
    "N = input('inserisci il numero di potenze da calcolare (N):')\n",
    "N = int(N)\n",
    "K = input('inserisci il numero base (K):')\n",
    "K = int(K)\n",
    "n = 0\n",
    "potenze_di_K = []\n",
    "\n",
    "while n <= N:\n",
    "    potenza_di_K = K**n\n",
    "    potenze_di_K.append(potenza_di_K)\n",
    "    n +=1\n",
    "    print(potenze_di_K)\n",
    "\n",
    "for n in range(N+1):\n",
    "    potenza_di_K = K**n\n",
    "    potenze_di_K.append(potenza_di_K)\n",
    "    print(potenze_di_K)"
   ]
  },
  {
   "cell_type": "code",
   "execution_count": 122,
   "id": "89d11f28-cd11-4412-84d1-45404687c2c9",
   "metadata": {},
   "outputs": [
    {
     "name": "stdout",
     "output_type": "stream",
     "text": [
      "la media dei guadagni è: 70.0\n"
     ]
    }
   ],
   "source": [
    "# task 12:\n",
    "'''Abbiamo una lista con i guadagni degli ultimi 12 mesi: \n",
    "guadagni = [100, 90, 70, 40, 50, 80, 90, 120, 80, 20, 50, 50] \n",
    "usando un costrutto for, calcolare la media dei guadagni e stamparla a video.'''\n",
    "\n",
    "guadagni = [100, 90, 70, 40, 50, 80, 90, 120, 80, 20, 50, 50]\n",
    "somma = 0\n",
    "\n",
    "for guadagno in guadagni:\n",
    "    somma += guadagno\n",
    "\n",
    "num_elementi = len(guadagni)\n",
    "media = somma / num_elementi\n",
    "\n",
    "print ('la media dei guadagni è:',media)"
   ]
  },
  {
   "cell_type": "code",
   "execution_count": 25,
   "id": "9577f405-58ea-4a09-8544-3c3446da6ee3",
   "metadata": {},
   "outputs": [
    {
     "name": "stdout",
     "output_type": "stream",
     "text": [
      "Albergo: 1\n",
      "Sedia: 1\n",
      "Borgo: 0\n",
      "Petalo: 1\n",
      "Eremo: 2\n",
      "Belvedere: 4\n",
      "Semestre: 3\n",
      "Esteta: 2\n",
      "Sosta: 0\n",
      "Orpello: 1\n",
      "Abete: 2\n",
      "Orologio: 0\n",
      "Cesta: 1\n",
      "Ermellino: 2\n"
     ]
    }
   ],
   "source": [
    "# task 13:\n",
    "'''Abbiamo una lista di parole:\n",
    "parole = [\"Albergo\", \"Sedia\", \"Borgo\", \"Petalo\", \"Eremo\", \"Belvedere\", \"Semestre\", \n",
    "\"Esteta\", \"Sosta\", \"Orpello\", \"Abete\", \"Orologio\", \"Cesta\", \"Ermellino\"]\n",
    "\n",
    "stampiamo, per ogni parola, quante volte appare la lettera \"e\"; \n",
    "facciamo attenzione al fatto che appare sia maiuscola che minuscola.'''\n",
    "\n",
    "parole = [\"Albergo\", \"Sedia\", \"Borgo\", \"Petalo\", \"Eremo\", \"Belvedere\", \"Semestre\", \"Esteta\", \"Sosta\", \"Orpello\", \"Abete\", \"Orologio\", \"Cesta\", \"Ermellino\"] \n",
    "\n",
    "for parola in parole:\n",
    "   parola_minuscola = parola.lower()\n",
    "   conteggio_e = parola_minuscola.count('e')\n",
    "   print(parola,': ',conteggio_e, sep='')"
   ]
  },
  {
   "cell_type": "code",
   "execution_count": 29,
   "id": "77f4d8a8-112b-4d1c-87ed-26792dafbf57",
   "metadata": {},
   "outputs": [
    {
     "name": "stdout",
     "output_type": "stream",
     "text": [
      "{'Ada': 'Punto', 'Ben': 'Multipla', 'Charlie': 'Golf', 'Debbie': '107'} ... l'auto associata a Debbie è: 107\n",
      "Debbie è il proprietario dell'auto 107\n"
     ]
    }
   ],
   "source": [
    "# task 14:\n",
    "'''Creiamo un dizionario che assegni ad ogni proprietario la sua auto, sapendo che:\n",
    "\n",
    "• Ada guida una Punto\n",
    "• Ben guida una Multipla \n",
    "• Charlie guida una Golf \n",
    "• Debbie guida una 107\n",
    "\n",
    "Stampiamo il dizionario per intero, e poi l'auto associata a Debbie.'''\n",
    "\n",
    "dizionario = {'Ada':'Punto', 'Ben':'Multipla', 'Charlie':'Golf', 'Debbie':'107'}\n",
    "print(dizionario,'...',\"l'auto associata a Debbie è:\", dizionario['Debbie'])\n",
    "\n",
    "for proprietario in dizionario:\n",
    "    if proprietario == 'Debbie':\n",
    "        print(proprietario,\"è il proprietario dell'auto\",dizionario[proprietario])"
   ]
  },
  {
   "cell_type": "code",
   "execution_count": 192,
   "id": "de9be476-4074-4c63-af5b-bcb0bd408da0",
   "metadata": {},
   "outputs": [
    {
     "name": "stdout",
     "output_type": "stream",
     "text": [
      "Punto\n",
      "Golf\n",
      "107\n"
     ]
    }
   ],
   "source": [
    "# task 15:\n",
    "'''Abbiamo un dizionario che assegna ad ogni proprietario la sua auto: \n",
    "\n",
    "dizionario_auto = {\"Ada\": \"Punto\", \"Ben\": \"Multipla\", \"Charlie\": \"Golf\", \"Debbie\": \"107\"} \n",
    "\n",
    "Con un ciclo, e usando il metodo .values(), \n",
    "stampiamo a video tutte le auto che non sono una Multipla.'''\n",
    "\n",
    "dizionario_auto = {\"Ada\": \"Punto\", \"Ben\": \"Multipla\", \"Charlie\": \"Golf\", \"Debbie\": \"107\"}\n",
    "\n",
    "for auto in dizionario_auto.values():\n",
    "    if auto != \"Multipla\":\n",
    "        print(auto)"
   ]
  },
  {
   "cell_type": "code",
   "execution_count": 49,
   "id": "7e261d91-e7c4-4546-8e5a-776085bfd2da",
   "metadata": {},
   "outputs": [
    {
     "name": "stdout",
     "output_type": "stream",
     "text": [
      "{'Ada': 'Punto', 'Ben': 'Polo', 'Charlie': 'Golf', 'Debbie': '107', 'Emily': 'A1', 'Fred': 'Octavia', 'Grace': 'Yaris', 'Hugh': 'Clio'}\n",
      "{'Ben': 'Polo', 'Fred': 'Octavia', 'Grace': 'Yaris', 'Hugh': 'Clio'}\n",
      "{'Ben': 'Polo', 'Fred': 'Octavia', 'Grace': 'Yaris', 'Hugh': 'Clio'}\n",
      "{'Ben': 'Polo', 'Fred': 'Octavia', 'Grace': 'Yaris', 'Hugh': 'Clio'}\n",
      "{'Ben': 'Polo', 'Fred': 'Octavia', 'Grace': 'Yaris', 'Hugh': 'Clio'}\n"
     ]
    }
   ],
   "source": [
    "# task 16:\n",
    "'''Abbiamo due dizionari che assegnano ad ogni proprietario la propria auto:\n",
    "\n",
    "dizionario_auto = {\"Ada\": \"Punto\", \"Ben\": \"Multipla\", \"Charlie\": \"Golf\", \"Debbie\": \"107\", \"Emily\": \"A1\"} \n",
    "nuovi_proprietari = {\"Ben\": \"Polo\", \"Fred\": \"Octavia\", \"Grace\": \"Yaris\", \"Hugh\": \"Clio\"} \n",
    "\n",
    "Aggiornare il dizionario dizionario_auto con i dati contenuti in nuovi_proprietari e stamparlo. Cosa è successo a Ben?'''\n",
    "\n",
    "dizionario_auto = {\"Ada\": \"Punto\", \"Ben\": \"Multipla\", \"Charlie\": \"Golf\", \"Debbie\": \"107\", \"Emily\": \"A1\"}\n",
    "nuovi_proprietari = {\"Ben\": \"Polo\", \"Fred\": \"Octavia\", \"Grace\": \"Yaris\", \"Hugh\": \"Clio\"}\n",
    "\n",
    "dizionario_auto.update(nuovi_proprietari)\n",
    "print(dizionario_auto)\n",
    "\n",
    "# ben come ogni altro proprietaro presente nel nuovo dizionario ha sostituito la propria auto"
   ]
  },
  {
   "cell_type": "code",
   "execution_count": null,
   "id": "f8f6d58d-997e-429f-b539-1c627b9decfa",
   "metadata": {},
   "outputs": [],
   "source": [
    "# task 17:\n",
    "'''Osservando la sintassi dei dizionari, possiamo notare qualche affinità con il formato JSON?'''\n",
    "\n",
    "# Sì, i dizionari in Python e il formato JSON (JavaScript Object Notation) sono simili in molti aspetti. \n",
    "# Entrambi sono strutture dati che rappresentano coppie chiave-valore e sono utilizzati per memorizzare \n",
    "# e trasmettere dati in modo organizzato."
   ]
  },
  {
   "cell_type": "code",
   "execution_count": 53,
   "id": "7e92d48e-4e94-494f-8545-b3528cc13dbe",
   "metadata": {},
   "outputs": [
    {
     "name": "stdout",
     "output_type": "stream",
     "text": [
      "il minimo è: 11\n",
      "il massimo è: 90\n"
     ]
    }
   ],
   "source": [
    "# task 18:\n",
    "'''Scrivere un programma che, data una lista di numeri, \n",
    "fornisca in output il minimo e il massimo (possiamo usare o meno le funzioni built-in min() e max()).'''\n",
    "\n",
    "numeri = [34, 78, 12, 56, 23, 89, 45, 67, 11, 90, 44, 23]\n",
    "minimo = min(numeri)\n",
    "massimo = max(numeri)\n",
    "minimo_stampato = False\n",
    "massimo_stampato = False\n",
    "\n",
    "for n in numeri:\n",
    "    if n == minimo and not minimo_stampato:\n",
    "        print('il minimo è:',n)\n",
    "        minimo_stampato = True\n",
    "    if n == massimo and not massimo_stampato:\n",
    "        print('il massimo è:',n)\n",
    "        massimo_stampato = False"
   ]
  },
  {
   "cell_type": "code",
   "execution_count": 270,
   "id": "2c8d8c33-ca53-47ed-90c4-2bba871ca086",
   "metadata": {},
   "outputs": [
    {
     "name": "stdout",
     "output_type": "stream",
     "text": [
      "i 3 numeri più grandi sono: [78, 89, 90]\n"
     ]
    }
   ],
   "source": [
    "# task 19:\n",
    "'''Scrivere un programma che, data una lista di numeri, fornisca in output i tre numeri più grandi; \n",
    "gestire il caso in cui la lista sia più corta di tre, e quando uno o più dei numeri selezionati sono uguali.'''\n",
    "\n",
    "numeri = [34, 78, 12, 56, 23, 78, 89, 45, 67, 11, 90, 44, 23]\n",
    "numeri_unici = list(set(numeri))\n",
    "numeri_unici.sort()\n",
    "print('i 3 numeri più grandi sono:',numeri_unici[-3:])"
   ]
  },
  {
   "cell_type": "code",
   "execution_count": 73,
   "id": "a9969ed7-6c1e-46ec-84fc-445969121734",
   "metadata": {},
   "outputs": [
    {
     "name": "stdin",
     "output_type": "stream",
     "text": [
      "inserisci il numero di riferimento per la scelta della media: 30\n"
     ]
    }
   ],
   "source": [
    "# task 20:\n",
    "'''Scrivere un programma che:\n",
    "\n",
    "• in input acquisisce una lista di numeri e un numero K \n",
    "• in output, dovrà restituire la media di tutti i numeri nella lista maggiori o uguali a K \n",
    "• se non ce ne dovesse essere nessuno, dovrà stampare a schermo un messaggio adeguato.'''\n",
    "\n",
    "numeri = [34, 78, 12, 56, 23, 89, 45, 67, 11, 90, 44, 23]\n",
    "k = input('inserisci il numero di riferimento per la scelta della media:')\n",
    "k = int(k)\n",
    "\n",
    "if n >= k:\n",
    "    somma_numeri = sum(numeri)\n",
    "    media = somma_numeri / len(numeri)\n",
    "    lista.append(n)\n",
    "    print(media)\n",
    "else:\n",
    "    print('la media risulta essere inferiore al numero k scelto')"
   ]
  },
  {
   "cell_type": "code",
   "execution_count": 346,
   "id": "ea4a093d-fca4-4e4b-8808-2b6a75219e2e",
   "metadata": {},
   "outputs": [
    {
     "name": "stdout",
     "output_type": "stream",
     "text": [
      "*****\n",
      "**\n",
      "***\n",
      "****\n"
     ]
    }
   ],
   "source": [
    "# task 21:\n",
    "'''Scrivere un programma che, data una lista di numeri, \n",
    "come output stamperà lo stesso numero di asterischi su righe diverse, ottenendo una semplice \n",
    "visualizzazione grafica Esempio, supponendo di avere il seguente input:\n",
    "\n",
    "numeri = [5, 2, 3, 4] \n",
    "L'output sarà: \n",
    "***** \n",
    "**\n",
    "*** \n",
    "****\n",
    "'''\n",
    "\n",
    "numeri = [5, 2, 3, 4]\n",
    "\n",
    "for n in numeri:\n",
    "    print('*'*n)"
   ]
  },
  {
   "cell_type": "code",
   "execution_count": 77,
   "id": "875a0218-bc04-4f22-86c1-6c5f0b3e3e55",
   "metadata": {},
   "outputs": [
    {
     "name": "stdout",
     "output_type": "stream",
     "text": [
      "['ABCDEF95G01A123B', 'STUVWX95Z04A654E', 'DEFGHI95J06A987G']\n",
      "ABC DEF\n",
      "STU VWX\n",
      "DEF GHI\n"
     ]
    }
   ],
   "source": [
    "# task 22:\n",
    "'''Abbiamo una lista di codici fiscali:\n",
    "\n",
    "lista_cf = [\"ABCDEF95G01A123B\", \"GHIJKL91M02A321C\", \"MNOPQR89S03A456D\",\n",
    "\"STUVWX95Z04A654E\", \"XYZABC01D05A789F\", \"DEFGHI95J06A987G\"] \n",
    "\n",
    "• trovare i codici fiscali che contengono \"95\", metterli in una lista, e alla fine stamparla; \n",
    "\n",
    "• inoltre, per ognuno di essi, stampare a video i caratteri relativi al nome e quelli relativi al cognome.'''\n",
    "\n",
    "lista_cf = [\"ABCDEF95G01A123B\", \"GHIJKL91M02A321C\", \"MNOPQR89S03A456D\", \"STUVWX95Z04A654E\", \"XYZABC01D05A789F\", \"DEFGHI95J06A987G\"]\n",
    "lista_cf_95 = []\n",
    "\n",
    "for cf in lista_cf:\n",
    "    if '95' in cf:\n",
    "        lista_cf_95.append(cf)\n",
    "print(lista_cf_95)\n",
    "for cf in lista_cf_95:\n",
    "    cognome = cf[:3]\n",
    "    nome = cf[3:6]\n",
    "    print(cognome, nome)"
   ]
  },
  {
   "cell_type": "code",
   "execution_count": 418,
   "id": "26c4f782-f36f-41ad-bb98-6ff1e7f80b52",
   "metadata": {},
   "outputs": [
    {
     "name": "stdout",
     "output_type": "stream",
     "text": [
      "Alex\n",
      "Faith\n"
     ]
    }
   ],
   "source": [
    "# task 23:\n",
    "'''Abbiamo tre liste della stessa lunghezza, dove ogni elemento nella medesima\n",
    "posizione si riferisce ai dati dello stesso studente: \n",
    "\n",
    "studenti = [\"Alex\", \"Bob\", \"Cindy\", \"Dan\", \"Emma\", \"Faith\", \"Grace\", \"Henry\"]\n",
    "corsi = [\"Cybersecurity\", \"Data Analyst\", \"Backend\", \"Frontend\", \"Data Analyst\", \"Backend\", \"Frontend\", \"Cybersecurity\"] \n",
    "edizioni = [1, 2, 3, 2, 2, 1, 3, 3] \n",
    "\n",
    "• Stampare a video tutti e soli gli studenti che frequentano una prima edizione; non tutti i dati potrebbero essere necessari. \n",
    "• Riuscite a vedere una similarità con la logica che si usa in SQL e le tabelle relazionali?'''\n",
    "\n",
    "studenti = [\"Alex\", \"Bob\", \"Cindy\", \"Dan\", \"Emma\", \"Faith\", \"Grace\", \"Henry\"]\n",
    "edizioni = [1, 2, 3, 2, 2, 1, 3, 3]\n",
    "dizionario_studenti_edizioni = dict(zip(studenti, edizioni))\n",
    "\n",
    "for studente in dizionario_studenti_edizioni:\n",
    "    if dizionario_studenti_edizioni[studente] == 1:\n",
    "        print(studente)"
   ]
  },
  {
   "cell_type": "code",
   "execution_count": 440,
   "id": "fb1f1427-2ada-41fc-9bd0-9276d433e7f7",
   "metadata": {},
   "outputs": [
    {
     "data": {
      "text/plain": [
       "['100 $', '200 $', '500 $', '10 $', '50 $', '70 $']"
      ]
     },
     "execution_count": 440,
     "metadata": {},
     "output_type": "execute_result"
    }
   ],
   "source": [
    "# task 24:\n",
    "'''Abbiamo una lista di stringhe di prezzi in dollari, \n",
    "che erroneamente sono stati scritti con il simbolo dell'euro: \n",
    "\n",
    "prezzi = [\"100 €\", \"200 €\", \"500 €\", \"10 €\", \"50 €\", \"70 €\"] \n",
    "\n",
    "cambiare il simbolo dell'euro (€) in quello del dollaro ($) per ogni stringa nella lista; \n",
    "il risultato sarà memorizzato in un'altra lista.'''\n",
    "\n",
    "prezzi = [\"100 €\", \"200 €\", \"500 €\", \"10 €\", \"50 €\", \"70 €\"] \n",
    "prezzi_americani = []\n",
    "\n",
    "for prezzo in prezzi:\n",
    "    prezzo_americano = prezzo.replace('€','$')\n",
    "    prezzi_americani.append(prezzo_americano)\n",
    "\n",
    "prezzi_americani"
   ]
  },
  {
   "cell_type": "code",
   "execution_count": 101,
   "id": "2264dbdf-269e-4aa8-88af-1afdf3c3e8db",
   "metadata": {},
   "outputs": [
    {
     "name": "stdout",
     "output_type": "stream",
     "text": [
      "la squadra_dispari è: ['Alex', 'Cindy', 'Emma', 'Grace', 'Isabelle']\n",
      "la squadra_pari: ['Bob', 'Dan', 'Faith', 'Henry', 'John']\n"
     ]
    }
   ],
   "source": [
    "# task 25:\n",
    "'''Abbiamo una lista di studenti:\n",
    "\n",
    "studenti = [\"Alex\", \"Bob\", \"Cindy\", \"Dan\", \"Emma\", \"Faith\", \"Grace\", \"Henry\", \"Isabelle\", \"John\"]\n",
    "\n",
    "vogliamo dividere gli studenti in due squadre per un campionato di Uno nel seguente modo:\n",
    "selezioneremo i nomi in posizione pari per un squadra, \n",
    "e i nomi in posizione dispari per l'altra. \n",
    "\n",
    "Creiamo due liste per ogni squadra, e alla fine visualizziamole.'''\n",
    "\n",
    "studenti = [\"Alex\", \"Bob\", \"Cindy\", \"Dan\", \"Emma\", \"Faith\", \"Grace\", \"Henry\", \"Isabelle\", \"John\"]\n",
    "squadra_pari = []\n",
    "squadra_dispari = []\n",
    "\n",
    "for i in range(len(studenti)):\n",
    "    if i % 2 == 0:\n",
    "        squadra_dispari.append(studenti[i])\n",
    "    else:\n",
    "        squadra_pari.append(studenti[i])\n",
    "print('la squadra_dispari è:',squadra_dispari)\n",
    "print('la squadra_pari:',squadra_pari)"
   ]
  },
  {
   "cell_type": "code",
   "execution_count": 516,
   "id": "e11379e0-b065-4ec1-a174-611edf11cdfc",
   "metadata": {},
   "outputs": [
    {
     "name": "stdout",
     "output_type": "stream",
     "text": [
      "mese 1 : 100 - 100.0 il guadagno attuale è uguale alla media\n",
      "mese 2 : 90 - 100.0 - il guadagno attuale è minore\n",
      "mese 3 : 70 - 96.66666666666667 - il guadagno attuale è minore\n",
      "mese 4 : 40 - 90.0 - il guadagno attuale è minore\n",
      "mese 5 : 50 - 80.0 - il guadagno attuale è minore\n",
      "mese 6 : 80 - 75.0 - il guadagno attuale è maggiore\n",
      "mese 7 : 90 - 75.71428571428571 - il guadagno attuale è maggiore\n",
      "mese 8 : 120 - 77.5 - il guadagno attuale è maggiore\n",
      "mese 9 : 80 - 82.22222222222223 - il guadagno attuale è minore\n",
      "mese 10 : 20 - 82.0 - il guadagno attuale è minore\n",
      "mese 11 : 50 - 76.36363636363636 - il guadagno attuale è minore\n",
      "mese 12 : 50 - 74.16666666666667 - il guadagno attuale è minore\n"
     ]
    }
   ],
   "source": [
    "# task 26:\n",
    "'''abbiamo una lista con i guadagni degli ultimi 12 mesi (supponiamo da Gennaio a Dicembre):\n",
    "\n",
    "guadagni = [100, 90, 70, 40, 50, 80, 90, 120, 80, 20, 50, 50]\n",
    "\n",
    "dobbiamo confrontare, stampando tutto a video, il guadagno di ogni mese con la media dei guadagni precedenti,\n",
    "e specificare nell'output se il guadagno attuale è maggiore o minore della media dei precedenti.\n",
    "\n",
    "Esempio di un possibile output: \n",
    "Mese 1: 100 € \n",
    "Mese 2: 90 € (media prec: 100 € - il guadagno attuale è minore) \n",
    "Mese 3: 70 € (media prec: 95 € - il guadagno attuale è minore)'''\n",
    "\n",
    "guadagni = [100, 90, 70, 40, 50, 80, 90, 120, 80, 20, 50, 50]\n",
    "somma = 100 # init somma\n",
    "n_guadagni = 1 # init mesi\n",
    "\n",
    "for guadagno in guadagni:\n",
    "    media_attuale = somma / n_guadagni\n",
    "    if guadagno > media_attuale:\n",
    "        print('mese', n_guadagni, ':', guadagno,'-',media_attuale,'-','il guadagno attuale è maggiore')\n",
    "    elif guadagno == media_attuale:\n",
    "          print('mese', n_guadagni, ':', guadagno,'-',media_attuale,'il guadagno attuale è uguale alla media')\n",
    "    else:\n",
    "        print('mese',n_guadagni, ':', guadagno,'-',media_attuale,'-','il guadagno attuale è minore')\n",
    "    somma += guadagno\n",
    "    n_guadagni += 1"
   ]
  },
  {
   "cell_type": "code",
   "execution_count": 210,
   "id": "24b108b9-02be-4cd2-b7a8-e4d8af662f1f",
   "metadata": {},
   "outputs": [
    {
     "name": "stdout",
     "output_type": "stream",
     "text": [
      "giocata n° 1 : x\n",
      "giocata n° 2 : o\n",
      "giocata n° 3 : x\n",
      "giocata n° 4 : x\n",
      "giocata n° 5 : x\n",
      "il giocatore x vince!\n"
     ]
    }
   ],
   "source": [
    "# task BONUS:\n",
    "'''CREARE IL GIOCO DEL TRIS'''\n",
    "\n",
    "import random\n",
    "import numpy as np\n",
    "\n",
    "lista_numeri = np.random.randint(1, 3, 100)\n",
    "lista_numeri = lista_numeri.astype(str)\n",
    "lista_numeri = np.where(lista_numeri == '1', 'x', 'o')\n",
    "lista_giocate = lista_numeri\n",
    "iterazione = 1\n",
    "contatore_x = 0\n",
    "contatore_o = 0\n",
    "\n",
    "for giocata in lista_giocate:\n",
    "    print('giocata n°',iterazione,':',giocata)\n",
    "    iterazione += 1\n",
    "    if giocata == 'x':\n",
    "        contatore_x += 1\n",
    "    else: contatore_x = 0 \n",
    "    if contatore_x == 3:\n",
    "        print('il giocatore x vince!')\n",
    "        break\n",
    "    elif giocata == 'o':\n",
    "        contatore_o += 1\n",
    "    else: contatore_o = 0\n",
    "    if contatore_o == 3:\n",
    "        print('il giocatore o vince!')\n",
    "        break"
   ]
  }
 ],
 "metadata": {
  "kernelspec": {
   "display_name": "Python 3 (ipykernel)",
   "language": "python",
   "name": "python3"
  },
  "language_info": {
   "codemirror_mode": {
    "name": "ipython",
    "version": 3
   },
   "file_extension": ".py",
   "mimetype": "text/x-python",
   "name": "python",
   "nbconvert_exporter": "python",
   "pygments_lexer": "ipython3",
   "version": "3.12.4"
  }
 },
 "nbformat": 4,
 "nbformat_minor": 5
}
