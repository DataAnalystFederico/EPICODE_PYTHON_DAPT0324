{
 "cells": [
  {
   "cell_type": "code",
   "execution_count": 13,
   "id": "df4f24e1-a189-4cb3-9c3b-5f1b0785fb9d",
   "metadata": {
    "collapsed": true,
    "jupyter": {
     "outputs_hidden": true
    }
   },
   "outputs": [
    {
     "data": {
      "text/plain": [
       "\"Individuiamo tre task di qualsiasi tipo (fare la spesa, studiare un concetto,\\nriempire il serbatoio dell'auto, acquistare uno snack da un distributore automatico, o qualunque altra cosa)\\n\\nScriviamo un algoritmo (in forma testuale), cioè i passi necessari, per ognuno dei task selezionati.\""
      ]
     },
     "execution_count": 13,
     "metadata": {},
     "output_type": "execute_result"
    }
   ],
   "source": [
    "# task 1:\n",
    "'''Individuiamo tre task di qualsiasi tipo (fare la spesa, studiare un concetto,\n",
    "riempire il serbatoio dell'auto, acquistare uno snack da un distributore automatico, o qualunque altra cosa)\n",
    "\n",
    "Scriviamo un algoritmo (in forma testuale), cioè i passi necessari, per ognuno dei task selezionati.'''\n",
    "\n",
    "# fare la spesa: - scrivere lista degli alimenti mancanti - scegliere market - prelevare al bancomat\n",
    "# studiare un concetto: - concentrarsi e leggere attentamente ciò che si vuole apprendere - reperire più fonti da cui impararlo - fare esempi pratici -\n",
    "# riempire il serbatoio dell'auto: - prelevare al bancomat - recarsi dal benzinaio - indicargli il carburante della propria auto \n",
    "# acquistare uno snack da un distributore automatico: - scegliere quello che interessa - leggere prezzo e codice - inserire moneta e digitare il codice corretto\n",
    "\n"
   ]
  },
  {
   "cell_type": "code",
   "execution_count": 11,
   "id": "533bb7f2-4d3b-4631-b8f9-99048b23f75d",
   "metadata": {},
   "outputs": [
    {
     "name": "stdout",
     "output_type": "stream",
     "text": [
      "25\n"
     ]
    }
   ],
   "source": [
    "# task 2 e 3:\n",
    "'''Abbiamo 25 studenti; memorizzare questo dato in una variabile.\n",
    "Utilizzeremo: • l'operatore di assegnazione = '''\n",
    "\n",
    "studenti = 25\n",
    "print(studenti)"
   ]
  },
  {
   "cell_type": "code",
   "execution_count": 21,
   "id": "8b8af4b9-e2d6-42e5-ba85-ed0a2bbd16de",
   "metadata": {},
   "outputs": [
    {
     "name": "stdout",
     "output_type": "stream",
     "text": [
      "3\n"
     ]
    }
   ],
   "source": [
    "# task 4:\n",
    "'''Esercizio Abbiamo 25 studenti; memorizzare questo dato in una variabile.'''\n",
    "'''Arrivano altri 3 studenti; memorizzare questo dato in un'altra variabile.'''\n",
    "\n",
    "studenti_new = 3\n",
    "print(studenti_new)"
   ]
  },
  {
   "cell_type": "code",
   "execution_count": 25,
   "id": "e0b3fac1-63c7-4c00-9d33-f1e64b25a912",
   "metadata": {},
   "outputs": [
    {
     "name": "stdout",
     "output_type": "stream",
     "text": [
      "28\n"
     ]
    }
   ],
   "source": [
    "# task 5:\n",
    "'''Esercizio Abbiamo 25 studenti; memorizzare questo dato in una variabile. Arrivano altri 3 studenti;\n",
    "memorizzare questo dato in un'altra variabile.\n",
    "Creare un'altra variabile ancora che conterrà la somma delle prime due, poi stamparla a video.\n",
    "\n",
    "Utilizzeremo: • la funzione print() per stampare a video'''\n",
    "\n",
    "totale_studenti = studenti + studenti_new\n",
    "print(totale_studenti)"
   ]
  },
  {
   "cell_type": "code",
   "execution_count": 16,
   "id": "5af6c5d3-8035-42ec-9011-48c2c5f6d23b",
   "metadata": {},
   "outputs": [
    {
     "name": "stdout",
     "output_type": "stream",
     "text": [
      "Epicode\n"
     ]
    }
   ],
   "source": [
    "# task 6:\n",
    "'''Esercizio Creare una variabile che contiene la stringa \"Epicode\", quindi stamparla a video.'''\n",
    "\n",
    "accademia = \"Epicode\"\n",
    "print(accademia)"
   ]
  },
  {
   "cell_type": "code",
   "execution_count": 18,
   "id": "28b3ea30-2454-4ee2-ab35-ebf5ae7fe0e2",
   "metadata": {},
   "outputs": [
    {
     "name": "stdout",
     "output_type": "stream",
     "text": [
      "36 & 36\n"
     ]
    }
   ],
   "source": [
    "# task 7:\n",
    "'''Esercizio Abbiamo la variabile: x = 10 Incrementarla di 2 e poi moltiplicarla per 3 Usare due metodi diversi\n",
    "(ad esempio, uno utilizzando gli operatori di assegnazione, e uno senza)'''\n",
    "\n",
    "x = 10\n",
    "x += 2\n",
    "x *= 3\n",
    "\n",
    "x1 = 10\n",
    "x1 = x1 + 2\n",
    "x1 = x1 * 3\n",
    "\n",
    "print(x,'&',x1)"
   ]
  },
  {
   "cell_type": "code",
   "execution_count": 20,
   "id": "860251d9-da73-4695-901e-4dacc21e773b",
   "metadata": {},
   "outputs": [
    {
     "name": "stdout",
     "output_type": "stream",
     "text": [
      "7 - 5 - 10 - 4\n"
     ]
    }
   ],
   "source": [
    "# task 8:\n",
    "'''Esercizio Verificare, per ognuna delle seguenti stringhe, se il numero di caratteri è compreso tra 5 e 8:\n",
    "• str1 = \"Windows\" \n",
    "• str2 = \"Excel\" \n",
    "• str3 = \"Powerpoint\" \n",
    "• str4 = \"Word\" '''\n",
    "\n",
    "str1 = \"Windows\" \n",
    "str2 = \"Excel\" \n",
    "str3 = \"Powerpoint\" \n",
    "str4 = \"Word\"\n",
    "\n",
    "print(len(str1),'-',len(str2),'-',len(str3),'-',len(str4))"
   ]
  },
  {
   "cell_type": "code",
   "execution_count": 77,
   "id": "a4004fd2-0fc1-4dab-9207-e94d3b3d5633",
   "metadata": {},
   "outputs": [
    {
     "name": "stdout",
     "output_type": "stream",
     "text": [
      "31536000\n"
     ]
    }
   ],
   "source": [
    "# task 9:\n",
    "'''Esercizio Calcolare e stampare a video quanti secondi ci sono in un anno non bisestile.'''\n",
    "\n",
    "minuti_giorno = 24 * 60\n",
    "secondi_giorno = minuti_giorno * 60\n",
    "secondi_anno_non_bisestile = secondi_giorno * 365\n",
    "\n",
    "print(secondi_anno_non_bisestile)"
   ]
  },
  {
   "cell_type": "code",
   "execution_count": 24,
   "id": "4d8fe23e-5fdd-4239-b881-6dfd8b650af5",
   "metadata": {},
   "outputs": [
    {
     "name": "stdout",
     "output_type": "stream",
     "text": [
      "I am studying Python\n"
     ]
    }
   ],
   "source": [
    "# task 10:\n",
    "'''Esercizio Abbiamo la seguente stringa:\n",
    "\n",
    "my_string = \"I am studying Python\"\n",
    "\n",
    "• Trasformarla in modo che tutti i caratteri siano maiuscoli (uppercase) \n",
    "• Trasformarla in modo che tutti i caratteri siano minuscoli (lowercase) \n",
    "• Sostituire la sottostringa \"Python\" con la stringa \"a lot\" \n",
    "• Usare il metodo .strip(); cambia qualcosa? Perché? '''\n",
    "\n",
    "my_string = \"I am studying Python\"\n",
    "\n",
    "my_string.upper() # oppure: str.upper(my_string)\n",
    "my_string.lower() # oppure: str.lower(my_string)\n",
    "my_string.replace(\"Python\",\"a lot\")\n",
    "my_string.strip() # elimina 1° e ultimo spazio\n",
    "# per modificare la variabile scriviamo: my_string = my_string.upper()\n",
    "print(my_string)"
   ]
  },
  {
   "cell_type": "code",
   "execution_count": null,
   "id": "7ff4fcd9-a7b0-43e4-9e20-b9b6453fe9ed",
   "metadata": {},
   "outputs": [],
   "source": []
  }
 ],
 "metadata": {
  "kernelspec": {
   "display_name": "Python 3 (ipykernel)",
   "language": "python",
   "name": "python3"
  },
  "language_info": {
   "codemirror_mode": {
    "name": "ipython",
    "version": 3
   },
   "file_extension": ".py",
   "mimetype": "text/x-python",
   "name": "python",
   "nbconvert_exporter": "python",
   "pygments_lexer": "ipython3",
   "version": "3.12.4"
  }
 },
 "nbformat": 4,
 "nbformat_minor": 5
}
