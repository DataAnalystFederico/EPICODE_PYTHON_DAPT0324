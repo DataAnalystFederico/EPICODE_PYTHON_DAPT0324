{
 "cells": [
  {
   "cell_type": "code",
   "execution_count": 4,
   "id": "250e2fbd-1879-483c-bee1-395adb29a76b",
   "metadata": {},
   "outputs": [
    {
     "name": "stdout",
     "output_type": "stream",
     "text": [
      "[0, 1, 2, 3, 4, 5]\n"
     ]
    }
   ],
   "source": [
    "# task 1\n",
    "'''Creare, a mano, una lista che contenga i numeri da 0 a 5, memorizzarla in una variabile e infine stamparla a video.'''\n",
    "\n",
    "lista = [0, 1, 2, 3, 4, 5]\n",
    "print(lista)"
   ]
  },
  {
   "cell_type": "code",
   "execution_count": 6,
   "id": "08655b0e-1bb2-4884-81da-650f63845578",
   "metadata": {},
   "outputs": [
    {
     "name": "stdout",
     "output_type": "stream",
     "text": [
      "[\"C'era una volta in America\", 'Interstellar', 'Fight Club']\n"
     ]
    }
   ],
   "source": [
    "# task 2\n",
    "'''Crea, a mano, una lista che contenga tre titoli dei tuoi film preferiti, \n",
    "memorizzarla in una variabile e infine stampala a video.'''\n",
    "\n",
    "lista_film_preferiti = [\"C'era una volta in America\", 'Interstellar', 'Fight Club']\n",
    "print(lista_film_preferiti)"
   ]
  },
  {
   "cell_type": "code",
   "execution_count": 26,
   "id": "e8715541-32ff-4389-a850-9e3e155b0523",
   "metadata": {},
   "outputs": [
    {
     "data": {
      "text/plain": [
       "'E'"
      ]
     },
     "execution_count": 26,
     "metadata": {},
     "output_type": "execute_result"
    }
   ],
   "source": [
    "# task 3\n",
    "'''Abbiamo la stringa:\n",
    "\n",
    "nome_scuola = \"Epicode\"\n",
    "\n",
    "Stampare l'iniziale.\n",
    "\n",
    "\n",
    "Utilizzeremo:\n",
    "le parentesi quadre [] per accedere agli elementi della stringa mediante indicizzazione'''\n",
    "\n",
    "nome_scuola = \"Epicode\"\n",
    "nome_scuola[0]"
   ]
  },
  {
   "cell_type": "code",
   "execution_count": 30,
   "id": "efcc99d5-efdc-4363-aab0-32a285ac68e3",
   "metadata": {},
   "outputs": [
    {
     "data": {
      "text/plain": [
       "'Epi'"
      ]
     },
     "execution_count": 30,
     "metadata": {},
     "output_type": "execute_result"
    }
   ],
   "source": [
    "# task 4\n",
    "'''Abbiamo la stringa:\n",
    "\n",
    "nome_scuola = \"Epicode\"\n",
    "\n",
    "Stampare le prime tre lettere.\n",
    "\n",
    "\n",
    "Utilizzeremo:\n",
    "le parentesi quadre [] e l'operatore : per accedere agli elementi della stringa mediante slicing'''\n",
    "\n",
    "nome_scuola[0:3]"
   ]
  },
  {
   "cell_type": "code",
   "execution_count": 40,
   "id": "2c8485ee-b9ae-4f6c-98ee-5ed04c65476d",
   "metadata": {},
   "outputs": [
    {
     "name": "stdout",
     "output_type": "stream",
     "text": [
      "36\n"
     ]
    }
   ],
   "source": [
    "# task 5\n",
    "'''Abbiamo la variabile:\n",
    "\n",
    " x = 10\n",
    "\n",
    "Incrementarla di 2 e poi moltiplicarla per 3\n",
    "\n",
    "Usare due metodi diversi (ad esempio, uno utilizzando gli operatori di assegnazione, e uno senza)'''\n",
    "\n",
    "x = 10\n",
    "x+= 2\n",
    "x*= 3\n",
    "print(x)"
   ]
  },
  {
   "cell_type": "code",
   "execution_count": 74,
   "id": "5c1af1f3-6e48-4811-ad87-c3e838631f65",
   "metadata": {},
   "outputs": [
    {
     "name": "stdout",
     "output_type": "stream",
     "text": [
      "Epi ... ode\n"
     ]
    }
   ],
   "source": [
    "# task 6\n",
    "'''Scriviamo un programma che chiede in input all'utente una stringa e visualizza i primi 3 caratteri, \n",
    "seguiti da 3 punti di sospensione e quindi gli ultimi 3 caratteri.\n",
    "\n",
    "\n",
    "Esempio:\n",
    "Input: computer\n",
    "Output: com...ter\n",
    "\n",
    "Input: algoritmo\n",
    "Output: alg...tmo\n",
    "'''\n",
    "\n",
    "scuola = 'Epicode'\n",
    "print(scuola[0:3],'...',scuola[-3:]) # print(scuola[0:3] +'...'+ scuola[-3:])"
   ]
  },
  {
   "cell_type": "code",
   "execution_count": 82,
   "id": "3ed3f710-7a4c-45e2-87ea-c70b41875023",
   "metadata": {},
   "outputs": [
    {
     "name": "stdout",
     "output_type": "stream",
     "text": [
      "7 - 5 - 10 - 4\n"
     ]
    }
   ],
   "source": [
    "# task 7\n",
    "'''Verificare, per ognuna delle seguenti stringhe, se il numero di caratteri è compreso tra 5 e 8:\n",
    "Windows\n",
    "Excel\n",
    "Powerpoint\n",
    "Word\n",
    "'''\n",
    "str1 = 'Windows'\n",
    "str2 = 'Excel'\n",
    "str3 = 'Powerpoint'\n",
    "str4 = 'Word'\n",
    "\n",
    "print(len(str1),'-',len(str2),'-',len(str3),'-',len(str4))"
   ]
  },
  {
   "cell_type": "code",
   "execution_count": 100,
   "id": "0309e559-79bb-4fd8-ace6-411f727a0095",
   "metadata": {},
   "outputs": [
    {
     "name": "stdout",
     "output_type": "stream",
     "text": [
      "['-S1', '-G9', '-Z8']\n"
     ]
    }
   ],
   "source": [
    "# task 8\n",
    "'''Abbiamo la seguente lista di codici prodotto:\n",
    "\n",
    "codici = [\"knt-S1\", \"cba-G9\", \"qtr-Z8\"]\n",
    "\n",
    "Per ognuno dei codici, estrarre la parte finale (gli ultimi tre caratteri, \n",
    "quindi trattino incluso) e memorizzarli in una nuova lista.'''\n",
    "\n",
    "codici = [\"knt-S1\", \"cba-G9\", \"qtr-Z8\"]\n",
    "codici_new = [codici[0][-3:],codici[1][-3:],codici[2][-3:]]\n",
    "print(codici_new)"
   ]
  },
  {
   "cell_type": "code",
   "execution_count": 182,
   "id": "e97a4798-140f-4334-80a8-6b1faa666496",
   "metadata": {},
   "outputs": [
    {
     "data": {
      "text/plain": [
       "{'Alphabet', 'Amazon', 'Intel', 'Meta Platforms', 'Salesforce', 'Tesla'}"
      ]
     },
     "execution_count": 182,
     "metadata": {},
     "output_type": "execute_result"
    }
   ],
   "source": [
    "# task 9\n",
    "'''Abbiamo un insieme (set) di titoli di azioni \"growth\" (cioè che hanno una crescita dei ricavi maggiore della media):\n",
    "growth = {\"Tesla\", \"Shopify\", \"Block\", \"Etsy\", \"MercadoLibre\", \"Netflix\", \"Amazon\", \"Meta Platforms\", \"Salesforce\", \"Alphabet\"}\n",
    "\n",
    "Abbiamo un insieme di titoli \"value\" (cioè titoli che offrono agli investitori un elevato ritorno \n",
    "sull’investimento, garantendo al contempo stabilità e sicurezza):\n",
    "value = {\"Pfizer\", \"Johnson & Johnson\", \"JPMorgan Chase & Co.\", \"Wells Fargo & Co.\", \n",
    "\"Verizon Communications\", \"BP PLC\", \"LyondellBasell Industries\", \"MetLife\", \"Interactive Brokers Group\", \"Intel\"}\n",
    "\n",
    "Abbiamo un insieme di titoli di aziende ad alta tecnologia:\n",
    "tech = {\"Apple\", \"Microsoft\", \"Alphabet\", \"Amazon\", \"NVIDIA\", \"Meta Platforms\",\n",
    "\"Tesla\", \"Alibaba\", \"Salesforce\", \"Advanced Micro Devices\", \"Intel\", \"PayPal\",\n",
    "\"Activision Blizzard\", \"Electronic Arts\", \"The Trade Desk\", \"Zillow Group\", \"Match Group\", \"Yelp\"}\n",
    "\n",
    "Abbiamo un insieme di titoli di aziende nell'healthcare:\n",
    "healthcare = {\"UnitedHealth Group\", \"Johnson & Johnson\", \"Eli Lilly & Co.\", \"Novo Nordisk\",\n",
    "\"Merck & Co.\", \"Roche Holding\", \"Pfizer\", \"Thermo Fisher Scientific\", \"Abbott Laboratories\"}\n",
    "\n",
    "Un investitore vuole sapere:\n",
    "\n",
    "- se vuole diversificare l'investimento, investendo in aziende growth e value, quali sono le aziende?\n",
    "- quali sono le aziende tecnologiche growth?\n",
    "- se vuole investire sia in aziende tecnologiche che value, quali deve considerare?\n",
    "- quali sono i titoli healthcare che non sono value?\n",
    "- ci sono aziende sia tech che healthcare?\n",
    "- in quali deve investire se vuole azioni tech ma solo se siano growth o value?'''\n",
    "\n",
    "growth = {\"Tesla\", \"Shopify\", \"Block\", \"Etsy\", \"MercadoLibre\", \"Netflix\", \"Amazon\", \"Meta Platforms\", \"Salesforce\", \"Alphabet\"}\n",
    "\n",
    "value = {\"Pfizer\", \"Johnson & Johnson\", \"JPMorgan Chase & Co.\", \"Wells Fargo & Co.\", \n",
    "\"Verizon Communications\", \"BP PLC\", \"LyondellBasell Industries\", \"MetLife\", \"Interactive Brokers Group\", \"Intel\"}\n",
    "\n",
    "tech = {\"Apple\", \"Microsoft\", \"Alphabet\", \"Amazon\", \"NVIDIA\", \"Meta Platforms\",\n",
    "\"Tesla\", \"Alibaba\", \"Salesforce\", \"Advanced Micro Devices\", \"Intel\", \"PayPal\",\n",
    "\"Activision Blizzard\", \"Electronic Arts\", \"The Trade Desk\", \"Zillow Group\", \"Match Group\", \"Yelp\"}\n",
    "\n",
    "\n",
    "healthcare = {\"UnitedHealth Group\", \"Johnson & Johnson\", \"Eli Lilly & Co.\", \"Novo Nordisk\",\n",
    "\"Merck & Co.\", \"Roche Holding\", \"Pfizer\", \"Thermo Fisher Scientific\", \"Abbott Laboratories\"}\n",
    "\n",
    "# se vuole diversificare l'investimento, investendo in aziende growth e value, quali sono le aziende?:\n",
    "growth.union(value)\n",
    "\n",
    "# quali sono le aziende tecnologiche growth?:\n",
    "growth.intersection(tech)\n",
    "\n",
    "# se vuole investire sia in aziende tecnologiche che value, quali deve considerare?:\n",
    "tech.union(value)\n",
    "\n",
    "# quali sono i titoli healthcare che non sono value?:\n",
    "healthcare.difference(value)\n",
    "\n",
    "# ci sono aziende sia tech che healthcare?: NO\n",
    "tech.intersection(healthcare)\n",
    "\n",
    "# in quali deve investire se vuole azioni tech ma solo se siano growth o value?:\n",
    "tech.intersection(growth.union(value))\n"
   ]
  }
 ],
 "metadata": {
  "kernelspec": {
   "display_name": "Python 3 (ipykernel)",
   "language": "python",
   "name": "python3"
  },
  "language_info": {
   "codemirror_mode": {
    "name": "ipython",
    "version": 3
   },
   "file_extension": ".py",
   "mimetype": "text/x-python",
   "name": "python",
   "nbconvert_exporter": "python",
   "pygments_lexer": "ipython3",
   "version": "3.12.4"
  }
 },
 "nbformat": 4,
 "nbformat_minor": 5
}
