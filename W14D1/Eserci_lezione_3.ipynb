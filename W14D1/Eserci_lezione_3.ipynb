{
 "cells": [
  {
   "cell_type": "code",
   "execution_count": 140,
   "id": "74882ec2-8587-46d2-b84a-d43f62a76b26",
   "metadata": {},
   "outputs": [],
   "source": [
    "import pandas as pd\n",
    "import math as m\n",
    "import numpy as np"
   ]
  },
  {
   "cell_type": "code",
   "execution_count": 352,
   "id": "3cc8a8d1-ac69-4caf-b443-c0f5460cefa7",
   "metadata": {},
   "outputs": [
    {
     "data": {
      "text/html": [
       "<div>\n",
       "<style scoped>\n",
       "    .dataframe tbody tr th:only-of-type {\n",
       "        vertical-align: middle;\n",
       "    }\n",
       "\n",
       "    .dataframe tbody tr th {\n",
       "        vertical-align: top;\n",
       "    }\n",
       "\n",
       "    .dataframe thead th {\n",
       "        text-align: right;\n",
       "    }\n",
       "</style>\n",
       "<table border=\"1\" class=\"dataframe\">\n",
       "  <thead>\n",
       "    <tr style=\"text-align: right;\">\n",
       "      <th></th>\n",
       "      <th>0</th>\n",
       "      <th>1</th>\n",
       "      <th>2</th>\n",
       "      <th>3</th>\n",
       "      <th>4</th>\n",
       "    </tr>\n",
       "  </thead>\n",
       "  <tbody>\n",
       "    <tr>\n",
       "      <th>0</th>\n",
       "      <td>0</td>\n",
       "      <td>1</td>\n",
       "      <td>2</td>\n",
       "      <td>3</td>\n",
       "      <td>4</td>\n",
       "    </tr>\n",
       "    <tr>\n",
       "      <th>1</th>\n",
       "      <td>5</td>\n",
       "      <td>6</td>\n",
       "      <td>7</td>\n",
       "      <td>8</td>\n",
       "      <td>9</td>\n",
       "    </tr>\n",
       "  </tbody>\n",
       "</table>\n",
       "</div>"
      ],
      "text/plain": [
       "   0  1  2  3  4\n",
       "0  0  1  2  3  4\n",
       "1  5  6  7  8  9"
      ]
     },
     "execution_count": 352,
     "metadata": {},
     "output_type": "execute_result"
    }
   ],
   "source": [
    "# task 1:\n",
    "'''Abbiamo una lista di liste: \n",
    "\n",
    "mat = [[0, 1, 2, 3, 4], [5, 6, 7, 8, 9], [10, 11, 12, 13, 14]]\n",
    "\n",
    "Che tipo di struttura dati o matematica potrebbe rappresentare? \n",
    "Notare che tutte le liste \"interne\" sono della stessa dimensione \n",
    "Come facciamo per accedere ad un elemento in particolare?'''\n",
    "\n",
    "mat = [[0, 1, 2, 3, 4], [5, 6, 7, 8, 9], [10, 11, 12, 13, 14]]\n",
    "pd_mat = pd.DataFrame(mat)\n",
    "pd_mat.iloc[:]"
   ]
  },
  {
   "cell_type": "code",
   "execution_count": 132,
   "id": "54664b31-2408-444e-9e1d-cea893e16a8e",
   "metadata": {},
   "outputs": [
    {
     "name": "stdout",
     "output_type": "stream",
     "text": [
      "-0.5440211108893698 -0.8390715290764524 3628800 3.141592653589793\n"
     ]
    }
   ],
   "source": [
    "# task 2:\n",
    "'''Importiamo il modulo math e proviamo a usare le funzioni:\n",
    "\n",
    ".sin() \n",
    ".cos() \n",
    ".factorial() \n",
    "\n",
    "e la variabile \n",
    ".pi la riconoscete?'''\n",
    "\n",
    "x = 10\n",
    "s = m.sin(x)\n",
    "c = m.cos(x)\n",
    "f = m.factorial(x)\n",
    "II = m.pi\n",
    "\n",
    "print(s, c, f, II)"
   ]
  },
  {
   "cell_type": "code",
   "execution_count": 138,
   "id": "13458237-329f-467b-a9aa-92efdf240424",
   "metadata": {},
   "outputs": [
    {
     "name": "stdout",
     "output_type": "stream",
     "text": [
      "Help on built-in function degrees in module math:\n",
      "\n",
      "degrees(x, /)\n",
      "    Convert angle x from radians to degrees.\n",
      "\n"
     ]
    }
   ],
   "source": [
    "# task 3:\n",
    "'''Proviamo a eseguire math.degrees(math.pi) \n",
    "\n",
    "Qual è e cosa significa il risultato?\n",
    "Per saperne di più su questa funzione possiamo usare help(math.degrees)'''\n",
    "\n",
    "m.degrees(m.pi)\n",
    "help(m.degrees)"
   ]
  },
  {
   "cell_type": "code",
   "execution_count": 282,
   "id": "e44ff1d6-0a94-4882-96fd-d938c7b8ccfc",
   "metadata": {},
   "outputs": [
    {
     "data": {
      "text/plain": [
       "4634.166666666667"
      ]
     },
     "execution_count": 282,
     "metadata": {},
     "output_type": "execute_result"
    }
   ],
   "source": [
    "# task 4:\n",
    "'''L'azienda Object SpA ha creato una lista di quanti oggetti ha venduto ogni mese nell'ultimo anno: \n",
    "\n",
    "lst = [2000, 5500, 7200, 4320, 1280, 1900, 2500, 3900, 6410, 8150, 7100, 5350] \n",
    "\n",
    "trasformiamola in un array NumPy (casting): \n",
    "lst = np.array(lst) \n",
    "\n",
    "e rispondiamo alle domande del CEO della Object SpA: \n",
    "\n",
    "• qual è stata la vendita massima mensile? E quella minima? \n",
    "• quali sono le vendite mensili maggiori di 4999 oggetti? E quante ne sono? \n",
    "• quali sono le vendite minori di 3000 oggetti? \n",
    "• in media quanti oggetti sono stati venduti al mese?'''\n",
    "\n",
    "lst = [2000, 5500, 7200, 4320, 1280, 1900, 2500, 3900, 6410, 8150, 7100, 5350] \n",
    "lst = np.array(lst)\n",
    "\n",
    "max_vendita = np.max(lst)\n",
    "min_vendita = np.min(lst)\n",
    "\n",
    "vendite_maggiori_di_4999 = lst > 4999\n",
    "lst[vendite_maggiori_di_4999]\n",
    "n_vendite_maggiori_di_4999 = len(vendite_maggiori_di_4999)\n",
    "\n",
    "vendite_minori_di_3000 = lst < 3000\n",
    "lst[vendite_minori_di_3000]\n",
    "\n",
    "media_vendite = np.mean(lst)\n",
    "media_vendite"
   ]
  },
  {
   "cell_type": "code",
   "execution_count": 363,
   "id": "272e8b85-b352-4006-85d9-859719e15065",
   "metadata": {},
   "outputs": [
    {
     "data": {
      "text/plain": [
       "numpy.int64"
      ]
     },
     "execution_count": 363,
     "metadata": {},
     "output_type": "execute_result"
    }
   ],
   "source": [
    "# task 5:\n",
    "'''Consideriamo il seguente dizionario: \n",
    "fatturati_dict = {1997: 12_000, 1998: 15_000, 1999: 20_000, 2000: 23_000, 2001: 25_000, \n",
    "2002: 17_000, 2003: 14_000, 2004: 21_000} \n",
    "\n",
    "Consideriamo ora la seguente Series: \n",
    "fatturati_series = pd.Series([12_000, 15_000, 20_000, 23_000, 25_000, \n",
    "17_000, 14_000, 21_000], index=range(1997, 2005)) \n",
    "\n",
    "Possiamo accedere alle stesse informazioni nello stesso modo: \n",
    "fatturati_dict[1997] \n",
    "fatturati_series[1997] \n",
    "\n",
    "Dunque qual è la differenza tra i due tipi di dato? \n",
    "Cosa potremmo fare con la Series che non possiamo fare con il dizionario?'''\n",
    "\n",
    "fatturati_dict = {1997: 12_000, 1998: 15_000, 1999: 20_000, 2000: 23_000, 2001: 25_000, \n",
    "2002: 17_000, 2003: 14_000, 2004: 21_000}\n",
    "fatturati_series = pd.Series([12_000, 15_000, 20_000, 23_000, 25_000, \n",
    "17_000, 14_000, 21_000],index=range(1997, 2005))\n",
    "type(fatturati_dict[1997])\n",
    "type(fatturati_series[1997])"
   ]
  },
  {
   "cell_type": "code",
   "execution_count": 358,
   "id": "a27a636f-cc2c-400f-81b0-c3ae391769da",
   "metadata": {},
   "outputs": [
    {
     "name": "stdout",
     "output_type": "stream",
     "text": [
      "200\n",
      "400\n",
      "600\n",
      "800\n",
      "1000\n",
      "1200\n",
      "1400\n",
      "1600\n",
      "1800\n",
      "2000\n"
     ]
    },
    {
     "data": {
      "text/plain": [
       "array([ 200,  400,  600,  800, 1000, 1200, 1400, 1600, 1800, 2000])"
      ]
     },
     "execution_count": 358,
     "metadata": {},
     "output_type": "execute_result"
    }
   ],
   "source": [
    "# task 6:\n",
    "'''L'azienda Object SpA ha un dataset con tutti gli stipendi dei dipendenti, \n",
    "memorizzato in un ndarray: \n",
    "\n",
    "import numpy as np \n",
    "stipendi = np.array([100, 200, 300, 400, 500,  600, 700, 800, 900, 1000])\n",
    "\n",
    "L'azienda ci chiede di raddoppiare tutti gli stipendi; \n",
    "facciamolo in due modi: \n",
    "\n",
    "• con un ciclo for \n",
    "• con il masking'''\n",
    "\n",
    "stipendi = np.array([100, 200, 300, 400, 500,  600, 700, 800, 900, 1000])\n",
    "\n",
    "for stipendio in stipendi:\n",
    "    stipendio *= 2\n",
    "    print(stipendio)\n",
    "\n",
    "stipendi_raddoppiati = stipendi*2\n",
    "stipendi_raddoppiati"
   ]
  }
 ],
 "metadata": {
  "kernelspec": {
   "display_name": "Python 3 (ipykernel)",
   "language": "python",
   "name": "python3"
  },
  "language_info": {
   "codemirror_mode": {
    "name": "ipython",
    "version": 3
   },
   "file_extension": ".py",
   "mimetype": "text/x-python",
   "name": "python",
   "nbconvert_exporter": "python",
   "pygments_lexer": "ipython3",
   "version": "3.12.4"
  }
 },
 "nbformat": 4,
 "nbformat_minor": 5
}
